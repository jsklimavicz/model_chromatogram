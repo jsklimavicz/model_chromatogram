{
 "cells": [
  {
   "cell_type": "code",
   "execution_count": null,
   "id": "a461256a-e463-43fc-9d87-22bab778d507",
   "metadata": {},
   "outputs": [],
   "source": [
    "import numpy as np\n",
    "import pandas as pd\n",
    "from datetime import datetime, timedelta\n",
    "from scipy.stats import exponnorm\n",
    "from user_parameters import *\n",
    "import matplotlib.pyplot as plt\n",
    "from scipy.signal import savgol_filter, find_peaks, peak_widths\n",
    "import math\n",
    "from analysis.peak_finding import *"
   ]
  },
  {
   "cell_type": "markdown",
   "id": "c9a9e033-457b-4d2f-b8c5-4484972ca066",
   "metadata": {},
   "source": [
    "## Create Baseline with noise\n",
    "\n",
    "Let's suppose that the baseline noise depends only on solvent composition, and that due to zeroing during a non-included equilibrium phase, the initial "
   ]
  },
  {
   "cell_type": "code",
   "execution_count": null,
   "id": "3a36cda7-eca8-41c8-87c9-f157c3d2974a",
   "metadata": {},
   "outputs": [],
   "source": [
    "# gradient_table = pd.read_csv(\"./gradients.csv\")\n",
    "# gradient_table.head()"
   ]
  },
  {
   "cell_type": "markdown",
   "id": "98ea3169-38fd-4503-af09-3712b84e5c43",
   "metadata": {},
   "source": []
  },
  {
   "cell_type": "markdown",
   "id": "ebb599e1-c353-4cfa-8978-d35d43d4544f",
   "metadata": {},
   "source": [
    "### Create Baseline\n",
    "\n",
    "First, we get the maximum time from the gradient table, and then use this value and the `SAMPLE_RATE` from `general_parameters` to generate time and signal arrays."
   ]
  },
  {
   "cell_type": "code",
   "execution_count": null,
   "id": "ebbf114d-b94a-4e5a-9ee1-8cf9e16e1715",
   "metadata": {},
   "outputs": [],
   "source": [
    "max_time = RUN_LENGTH\n",
    "\n",
    "samples_per_minute = 60 * SAMPLE_RATE\n",
    "\n",
    "times = np.arange(0, max_time, 1./samples_per_minute)\n",
    "signal = np.random.normal(loc = 0, scale = BASELINE_NOISE, size = times.shape)\n",
    "signal = savgol_filter(signal, 15, 3)"
   ]
  },
  {
   "cell_type": "markdown",
   "id": "46595a4e-5849-4d33-a67e-57267bb07f3a",
   "metadata": {},
   "source": [
    "## Load peaks table"
   ]
  },
  {
   "cell_type": "code",
   "execution_count": null,
   "id": "6fdeedfb-b673-4a8a-90f2-61ec4154cefc",
   "metadata": {},
   "outputs": [],
   "source": [
    "from peaks import peaks as peaks_list\n",
    "peaks_list"
   ]
  },
  {
   "cell_type": "markdown",
   "id": "3392099b-405b-487f-afb9-319a1b37dfbf",
   "metadata": {},
   "source": [
    "## Create Signal for Peaks"
   ]
  },
  {
   "cell_type": "code",
   "execution_count": null,
   "id": "a4cb2025-0563-4377-940c-6109e7aa2fa0",
   "metadata": {},
   "outputs": [],
   "source": [
    "for peak in peaks_list:\n",
    "    signal += peak[\"height\"] * exponnorm.pdf(times, K = peak[\"asymmetry\"], loc = peak[\"time\"], scale = peak[\"width\"])\n",
    "\n",
    "plt.plot(times, signal)\n",
    "plt.xlabel(\"Time (min)\")\n",
    "plt.ylabel(\"Absorbance (mAU)\")\n",
    "plt.show()\n"
   ]
  },
  {
   "cell_type": "code",
   "execution_count": null,
   "id": "205f82b3-dd36-4978-9ce6-3b1da11897e8",
   "metadata": {},
   "outputs": [],
   "source": [
    "from scipy.signal import find_peaks, peak_widths\n",
    "peaks, _ = find_peaks(signal, height=signal.max()/100, prominence = signal.max()/200, distance = SAMPLE_RATE * 10)\n",
    "plt.plot(times, signal)\n",
    "\n",
    "plt.plot(times[peaks], signal[peaks], \"x\")\n",
    "\n",
    "plt.plot(times, np.zeros_like(signal), \"--\", color=\"gray\")\n",
    "\n",
    "plt.show()"
   ]
  },
  {
   "cell_type": "code",
   "execution_count": null,
   "id": "ea9215e6-ac72-46d5-ab17-dee9a74dbf5b",
   "metadata": {},
   "outputs": [],
   "source": [
    "peak_widths(signal, peaks)\n",
    "\n",
    "results_half = peak_widths(signal, peaks, rel_height=0.5)\n",
    "results_full = peak_widths(signal, peaks, rel_height=1)\n",
    "plt.plot(times, signal)\n",
    "\n",
    "plt.plot(times[peaks], signal[peaks], \"x\")\n",
    "\n",
    "num_points = SAMPLE_RATE * 60\n",
    "\n",
    "plt.hlines(results_half[1], results_half[2]/num_points, results_half[3]/num_points, color=\"C2\")\n",
    "\n",
    "plt.hlines(results_full[1], results_full[2]/num_points, results_full[3]/num_points, color=\"C3\")\n",
    "# plt.hlines(*results_full[1:], color=\"C3\")\n",
    "\n",
    "plt.show()"
   ]
  },
  {
   "cell_type": "markdown",
   "id": "d9fd0fe9-ab1f-4ef3-893a-42e40de88331",
   "metadata": {},
   "source": [
    "## Finding good minima"
   ]
  },
  {
   "cell_type": "code",
   "execution_count": null,
   "id": "5b6e683a-fa7a-4e34-9c7e-99b6a09545d4",
   "metadata": {},
   "outputs": [],
   "source": [
    "inv_signal = signal.max() - signal\n",
    "\n",
    "minima, _ = find_peaks(inv_signal, \n",
    "                      height=signal.max()/100, \n",
    "                      prominence = signal.max()/1000, \n",
    "                      distance = SAMPLE_RATE * 10)\n",
    "plt.plot(times, signal)\n",
    "\n",
    "plt.plot(times[minima], signal[minima], \"x\")\n",
    "\n",
    "plt.show()"
   ]
  },
  {
   "cell_type": "markdown",
   "id": "51e6e21d-b0c5-4d81-aab9-dd8a236703fb",
   "metadata": {},
   "source": [
    "## Estimate gaussians"
   ]
  },
  {
   "cell_type": "code",
   "execution_count": null,
   "id": "fba64088-4dc1-4c65-98c9-4c1d02c84ed0",
   "metadata": {},
   "outputs": [],
   "source": [
    "means = times[peaks]\n",
    "sigmas = ((results_half[3] - results_half[2])/num_points)/(2 * math.sqrt(2 * math.log(2)))\n",
    "heights = signal[peaks] / (math.sqrt(2 * math.pi)) * .67\n",
    "\n",
    "from scipy.stats import norm\n",
    "\n",
    "def gaussian_pdf(x, height = 1, scale = 1, loc = 0):\n",
    "    return height / (scale * math.sqrt(2*math.pi)) * math.exp(-.5 * ((x - loc)/scale) ** 2)\n",
    "\n",
    "def fitted_spectrum(x, *args):\n",
    "    \"\"\"\n",
    "    Args expected in form of [*heights, *times, *sigmas]\n",
    "    \"\"\"\n",
    "    y = np.zeros_like(x)\n",
    "    num_gaussians = int(len(args)/3)\n",
    "    for i in range(0, num_gaussians):\n",
    "        h, t, s  = args[i], args[i+ num_gaussians], args[i + 2*num_gaussians]\n",
    "        y += np.array([gaussian_pdf(a, height = h, scale = s, loc = t) for a in x])\n",
    "    return y\n",
    "\n",
    "initial_guess = np.array([*heights, *means, *sigmas])\n",
    "\n",
    "from scipy.optimize import curve_fit\n",
    "popt, pcov = curve_fit(f = fitted_spectrum, xdata = times, ydata = signal, p0 = initial_guess )\n",
    "\n",
    "plt.plot(times, signal)\n",
    "plt.plot(times, fitted_spectrum(times, *popt), label=\"Fitted Curve\", color='red')\n",
    "plt.show()"
   ]
  },
  {
   "cell_type": "code",
   "execution_count": null,
   "id": "03635c93",
   "metadata": {},
   "outputs": [],
   "source": [
    "plt.plot(times, signal - fitted_spectrum(times, *popt))\n",
    "plt.show()"
   ]
  },
  {
   "cell_type": "code",
   "execution_count": null,
   "id": "ef25cf88-7d6b-404c-aaa9-e41b2b57b101",
   "metadata": {},
   "outputs": [],
   "source": [
    "d_signal1 = savgol_filter(signal[:-2]-signal[1:-1], 25, 3)\n",
    "d_signal2 = savgol_filter(signal[1:-1]-signal[2:], 25, 3)\n",
    "d2_signal = savgol_filter(d_signal1 - d_signal2, 25, 3)\n",
    "d2_signal = savgol_filter(d2_signal, 25, 3)\n",
    "dt = times[1:-1]\n",
    "\n",
    "height_param = 20\n",
    "\n"
   ]
  },
  {
   "cell_type": "code",
   "execution_count": null,
   "id": "c5d860dc-d218-4a46-b2ff-813017793df1",
   "metadata": {},
   "outputs": [],
   "source": [
    "## Find Noise"
   ]
  },
  {
   "cell_type": "code",
   "execution_count": null,
   "id": "9632ee08-0fd7-4803-be1c-293c70e836aa",
   "metadata": {},
   "outputs": [],
   "source": [
    "min_t = 11\n",
    "max_t = 12\n",
    "signals_in_range = d2_signal[round(min_t * samples_per_minute):round(max_t * samples_per_minute)]\n",
    "noise_sd = np.std(signals_in_range)\n",
    "\n",
    "threshhold = 5*noise_sd\n",
    "\n",
    "crossings = []\n",
    "\n",
    "for i in range(int(samples_per_minute/60),len(d2_signal)-int(samples_per_minute/60)):\n",
    "    if (d2_signal[i] > threshhold and d2_signal[i-1] <= threshhold) or (d2_signal[i] < threshhold and d2_signal[i-1] >= threshhold):\n",
    "        crossings.append((i/samples_per_minute, 1))\n",
    "    if (d2_signal[i] > -threshhold and d2_signal[i-1] <= -threshhold) or (d2_signal[i] < -threshhold and d2_signal[i-1] >= -threshhold):\n",
    "        crossings.append((i/samples_per_minute, -1))\n",
    "        \n",
    "crossings\n",
    "        \n",
    "# plt.show()"
   ]
  },
  {
   "cell_type": "code",
   "execution_count": null,
   "id": "f15a68b7-b4f1-4a9a-bc71-7d587aaba2d4",
   "metadata": {},
   "outputs": [],
   "source": [
    "crossing_count = 0\n",
    "cleaned_crossings  = []\n",
    "ind = 0\n",
    "while ind < len(crossings):\n",
    "    crossing = crossings[ind]\n",
    "    crossing_type = crossing[1]\n",
    "    if crossing_count == 2 and crossing_type == 1:\n",
    "        #count ones ahead\n",
    "        ahead_count = 0\n",
    "        ahead_ind = ind + 1\n",
    "        while ahead_ind < length(crossings):\n",
    "            if crossings[ahead_ind][1] == 1:\n",
    "                ahead_ind += 1\n",
    "                ahead_count += 1\n",
    "            else:\n",
    "                break \n",
    "        if ahead_count > 2:\n",
    "            ind = ahead_ind - 2\n",
    "    else:\n",
    "        ind += 1\n",
    "    cleaned_crossings.append(crossing)\n",
    "        \n",
    "cleaned_crossings        "
   ]
  },
  {
   "cell_type": "code",
   "execution_count": null,
   "id": "33b68b99-a1bb-49dd-9d52-5245f9ac5e7e",
   "metadata": {},
   "outputs": [],
   "source": [
    "plt.plot(dt, d2_signal)\n",
    "plt.hlines(threshhold, 0, times.max(), color=\"red\")\n",
    "plt.hlines(-threshhold, 0, times.max(), color=\"red\")\n",
    "\n",
    "plt.plot(np.array(crossings) / samples_per_minute, np.zeros_like(crossings) + threshhold, \"x\")\n",
    "\n",
    "plt.ylim(-.05, 0.05)\n",
    "plt.xlim(0, 3)\n",
    "\n",
    "\n",
    "colors = np.zeros_like(d2_signal)"
   ]
  },
  {
   "cell_type": "markdown",
   "id": "fec14458-2114-4188-b5c6-649c4e5f0a14",
   "metadata": {},
   "source": [
    "## Curve Fitting to Find Peaks\n",
    "\n",
    "The ideal chromatography peak is gaussian, with a signal \n",
    "$$\n",
    "y = h e ^{- \\frac{(t - R_t)^2}{2 \\sigma^2}}\n",
    "$$\n",
    "where $h$ is the peak height, $R_t$ is the retention time, and $\\sigma$ is the statistical standard deviation of the peak. However, for various reasons (e.g. column packing heterogeneity, analyte/solvent interactions, environmental conditions), there is usually some degree of tailing of peaks, and we see a deviation from the ideal gaussian. Instead, chromatography peaks are often more similar to exponentially modified gaussians; these distrubutions describe the sum of independent normal and exponential distrubutions. "
   ]
  },
  {
   "cell_type": "markdown",
   "id": "f674f7a9-b64e-43a2-abd1-c0d3c4a5e29d",
   "metadata": {},
   "source": [
    "$(fg)'(x) = \\left(-\\frac{\\lambda^2}{2} e^{\\frac{\\lambda}{2} (2\\mu + \\lambda\\sigma^2 - 2x)}\\right) \\cdot \\left(\\text{erfc}\\left(\\frac{\\mu + \\lambda\\sigma^2 - x}{\\sqrt{2}\\sigma}\\right)\\right) + \\left(\\frac{\\lambda}{2} e^{\\frac{\\lambda}{2} (2\\mu + \\lambda\\sigma^2 - 2x)}\\right) \\cdot \\left(\\frac{1}{\\sqrt{\\pi}} \\frac{e^{-\\left(\\frac{\\mu + \\lambda\\sigma^2 - x}{\\sqrt{2}\\sigma}\\right)^2}}{\\sqrt{2}\\sigma}\\right)$"
   ]
  },
  {
   "cell_type": "code",
   "execution_count": null,
   "id": "d54c4788-f0ec-45ac-a646-e1fdba9e7820",
   "metadata": {},
   "outputs": [],
   "source": [
    "from analysis.EMG_curvefit import expmodgauss\n",
    "def fitted_spectrum(x, *args):\n",
    "    \"\"\"\n",
    "    Args expected in form of [*heights, *times, *sigmas]\n",
    "    \"\"\"\n",
    "    y = np.zeros_like(x)\n",
    "    num_gaussians = int(len(args)/3)\n",
    "    for i in range(0, num_gaussians):\n",
    "        h, t, s  = args[i], args[i+ num_gaussians], args[i + 2*num_gaussians]\n",
    "        y += expmodgauss(x, h, mu=t, sigma=s, tau=1)\n",
    "    return y\n",
    "\n",
    "initial_guess = np.array([*heights, *means, *sigmas])\n",
    "\n",
    "from scipy.optimize import curve_fit\n",
    "popt, pcov = curve_fit(f = fitted_spectrum, xdata = times, ydata = signal, p0 = initial_guess )\n",
    "\n",
    "plt.plot(times, signal)\n",
    "plt.plot(times, fitted_spectrum(times, *popt), label=\"Fitted Curve\", color='red')\n",
    "plt.show()"
   ]
  }
 ],
 "metadata": {
  "kernelspec": {
   "display_name": "Python 3 (ipykernel)",
   "language": "python",
   "name": "python3"
  },
  "language_info": {
   "codemirror_mode": {
    "name": "ipython",
    "version": 3
   },
   "file_extension": ".py",
   "mimetype": "text/x-python",
   "name": "python",
   "nbconvert_exporter": "python",
   "pygments_lexer": "ipython3",
   "version": "3.10.13"
  }
 },
 "nbformat": 4,
 "nbformat_minor": 5
}
